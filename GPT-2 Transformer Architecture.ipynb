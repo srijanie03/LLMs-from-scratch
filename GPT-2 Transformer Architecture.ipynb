{
 "cells": [
  {
   "cell_type": "markdown",
   "id": "74b96496",
   "metadata": {},
   "source": [
    "### Implement the GPT-2 Transformer Architecure"
   ]
  },
  {
   "cell_type": "markdown",
   "id": "7af6cf93",
   "metadata": {},
   "source": [
    "The purpose of this notebook is to build a GPT-2 transformer model."
   ]
  },
  {
   "cell_type": "code",
   "execution_count": null,
   "id": "bf768c22",
   "metadata": {},
   "outputs": [],
   "source": [
    "import math\n",
    "import pandas as pd\n",
    "import torch\n",
    "import torch.nn as nn\n",
    "import torch.nn.functional as F\n",
    "import torch.optim as optim\n",
    "\n",
    "from torch.utils.data import DataLoader, Dataset\n",
    "from transformers import AutoTokenizer"
   ]
  },
  {
   "cell_type": "markdown",
   "id": "cc1882a4",
   "metadata": {},
   "source": [
    "## Creation"
   ]
  },
  {
   "cell_type": "markdown",
   "id": "5308762e",
   "metadata": {},
   "source": [
    "### Create Input Embeddings"
   ]
  },
  {
   "cell_type": "code",
   "execution_count": null,
   "id": "7a80fdb2",
   "metadata": {},
   "outputs": [],
   "source": [
    "class InputEmbedding(nn.Module):\n",
    "    def __init__(self, embed_dim: int, vocab_size: int):\n",
    "        \n",
    "        \"\"\"\"Initialize the InputEmbedding module.\n",
    "\n",
    "        # Args:\n",
    "        #    embed_dim (int): The dimensionality of the input embedding.\n",
    "        #    vocab_size (int): The size of the vocabulary.\n",
    "\n",
    "        \"\"\"\"\n",
    "        super().__init__()\n",
    "        \n",
    "        # Store the dimensionality and vocabulary size\n",
    "        self.embed_dim = embed_dim\n",
    "        self.vocab_size = vocab_size\n",
    "\n",
    "        # An embedding layer that maps the vocabulary to a lower dimensional space\n",
    "        # The embedding layer should have shape (vocab_size, embed_dim)\n",
    "        self.embedding = nn.Embedding(vocab_size, embed_dim)\n",
    "    \n",
    "    def forward(self, x):\n",
    "        \n",
    "        \"\"\"\"Perform the forward pass of the InputEmbedding module.\n",
    "\n",
    "        # Args:\n",
    "        #    x (tensor): The input tensor.\n",
    "\n",
    "        #Returns:\n",
    "        #    tensor: The embedded input tensor after scaling it by the square root of the dimensionality.\n",
    "        \"\"\"\n",
    "       \n",
    "        # Embed the input tensor using the embedding layer\n",
    "        # Shape: (batch_size, seq_len) -> (batch_size, seq_len, embed_dim)\n",
    "        embedded_input = self.embedding(x)\n",
    "        \n",
    "        # Scale the embedded input tensor by the square root of the dimensionality\n",
    "        # Shape: (batch_size, seq_len, embed_dim) -> (batch_size, seq_len, embed_dim)\n",
    "        scaled_embedded_input = embedded_input * torch.sqrt(torch.tensor(self.embed_dim))\n",
    "        return scaled_embedded_input"
   ]
  },
  {
   "cell_type": "markdown",
   "id": "834882fc",
   "metadata": {},
   "source": [
    "### Create Positional Encoding"
   ]
  },
  {
   "cell_type": "code",
   "execution_count": null,
   "id": "eeec041a",
   "metadata": {},
   "outputs": [],
   "source": [
    "class PositionalEncoding(nn.Module):\n",
    "    def __init__(self, embed_dim: int = 256, max_seq_len: int = 100, dropout: float = 0.1,):\n",
    "        #Initialize the PositionalEncoding module.\n",
    "        super().__init__()\n",
    "        self.embed_dim = embed_dim\n",
    "        self.max_seq_len = max_seq_len\n",
    "        self.dropout = nn.Dropout(dropout)\n",
    "       \n",
    "    def _precompute_positional_encoding(self, max_seq_len, embed_dim):\n",
    "        #Precompute the positional encoding matrix\n",
    "        with torch.no_grad():\n",
    "            # Create a positional encoding matrix of shape (max_seq_len, embed_dim)\n",
    "            positional_encoding = torch.zeros(max_seq_len, embed_dim)\n",
    "            # Create a tensor 'pos' with values [0, 1, 2, ..., max_seq_len - 1] (max_seq_len, 1)\n",
    "            position = torch.arange(0, max_seq_len, dtype=torch.float).unsqueeze(1)\n",
    "            # Compute the positional encoding matrix\n",
    "            division_term = torch.exp(torch.arange(0, embed_dim, 2).float() * (-torch.log(torch.tensor(10000.0)) / embed_dim))\n",
    "            positional_encoding[:, 0::2] = torch.sin(position * division_term)\n",
    "            positional_encoding[:, 1::2] = torch.cos(position * division_term)\n",
    "            # Shape (max_seq_len, embed_dim) -> (1, max_seq_len, embed_dim)\n",
    "            positional_encoding = positional_encoding.unsqueeze(0)\n",
    "\n",
    "        return positional_encoding\n",
    "    \n",
    "        # Precompute the positional encoding matrix\n",
    "        self.positional_encoding = self._precompute_positional_encoding(max_seq_len, embed_dim)\n",
    "\n",
    "    def forward(self, x):\n",
    "        #Forward pass layer for the  PositionalEncoding module.\"\"\"\n",
    "        # Add the positional encoding matrix to the input tensor\n",
    "        x = x + self.positional_encoding[:, : x.size(1)].to(x.device)\n",
    "        # Apply dropout to the input tensor\n",
    "        x = self.dropout(x)\n",
    "        return x"
   ]
  },
  {
   "cell_type": "markdown",
   "id": "28b60b6b",
   "metadata": {},
   "source": [
    "### Normalization layer"
   ]
  },
  {
   "cell_type": "code",
   "execution_count": null,
   "id": "ade3bdbf",
   "metadata": {},
   "outputs": [],
   "source": [
    "class LayerNormalization(nn.Module):\n",
    "    def __init__(self, embed_dim: int, eps: float = 1e-6):\n",
    "        \n",
    "        #Initialize the LayerNormalization module.\n",
    "        \n",
    "        super().__init__()\n",
    "        self.eps = eps\n",
    "        # Create two learnable parameters to scale and shift the normalized input\n",
    "        self.gain = nn.Parameter(torch.Tensor(embed_dim).uniform_())  # Initialize with values sampled from a uniform distribution\n",
    "        self.bias = nn.Parameter(torch.Tensor(embed_dim).normal_())    # Initialize with values sampled from a normal distribution\n",
    "\n",
    "\n",
    "    def forward(self, x):\n",
    "        #Perform the forward pass of the LayerNormalization module.\n",
    "        \n",
    "        # Compute the mean and standard deviation of the input tensor\n",
    "        mean = x.mean(-1, keepdim=True)\n",
    "        std = x.std(-1, keepdim=True)\n",
    "        \n",
    "        # Scale and shift the normalized input using the learnable parameters\n",
    "        return (x - mean) / (std + self.eps) * self.gain + self.bias"
   ]
  },
  {
   "cell_type": "markdown",
   "id": "4f9dde45",
   "metadata": {},
   "source": [
    "### Feed-Forward Layer"
   ]
  },
  {
   "cell_type": "code",
   "execution_count": null,
   "id": "b71efcc1",
   "metadata": {},
   "outputs": [],
   "source": [
    "class FeedForwardBlock(nn.Module):\n",
    "    def __init__(self, embed_dim: int, intermediate_size: int, dropout: float = 0.1):\n",
    "        \"\"\"Initialize the FeedForwardBlock module.\n",
    "        \"\"\"\n",
    "        super().__init__()\n",
    "        # embed_dim is the dimensionality of the input and output of the FeedForwardBlock\n",
    "        # intermediate_size is the dimensionality of the intermediate layer in the FeedForwardBlock\n",
    "        self.fc1 = nn.Linear(embed_dim, intermediate_size) # W1 and B1 in the formula\n",
    "        self.fc2 = nn.Linear(intermediate_size, embed_dim) # W2 and B2 in the formula\n",
    "        self.dropout = nn.Dropout(dropout)\n",
    "\n",
    "    def forward(self, x):\n",
    "        \"\"\"Perform the forward pass of the FeedForwardBlock module.\"\"\"\n",
    "        # (Batch, Seq_len, embed_dim) -> (Batch, Seq_len, intermediate_size) -> (Batch, Seq_len, embed_dim)\n",
    "        x_intermediate = self.dropout(F.relu(self.fc1(x)))\n",
    "        x_output = self.fc2(x_intermediate)\n",
    "        return x_output"
   ]
  },
  {
   "cell_type": "markdown",
   "id": "cffb774a",
   "metadata": {},
   "source": [
    "### Generate Masking"
   ]
  },
  {
   "cell_type": "code",
   "execution_count": null,
   "id": "03189b97",
   "metadata": {},
   "outputs": [],
   "source": [
    "def generate_square_subsequent_mask(size: int, device: torch.device = \"cpu\"):\n",
    "    \"\"\"Generate a square mask for the sequence.\"\"\"\n",
    "    mask = torch.tril(torch.ones(size, size, dtype=torch.bool, device=device), diagonal=0)\n",
    "    # Turn boolean mask into float mask\n",
    "    mask = mask.long()\n",
    "    return mask.unsqueeze(0)  # Add batch dimension"
   ]
  },
  {
   "cell_type": "markdown",
   "id": "1db4bb8e",
   "metadata": {},
   "source": [
    "### Create Multi-Head Attention"
   ]
  },
  {
   "cell_type": "code",
   "execution_count": null,
   "id": "bcd6dc9b",
   "metadata": {},
   "outputs": [],
   "source": [
    "class MultiHeadAttention(nn.Module):\n",
    "    def __init__(self, embed_dim: int = 512, num_heads: int = 8, attn_dropout: float = 0.1, ff_dropout: float = 0.1, max_len: int = 512):\n",
    "        super().__init__()\n",
    "        self.num_heads = num_heads\n",
    "        assert embed_dim % self.num_heads == 0, \"check invalid heads and embedding dimension configuration\"\n",
    "        self.query = nn.Linear(embed_dim, embed_dim)\n",
    "        self.key = nn.Linear(embed_dim, embed_dim)\n",
    "        self.value = nn.Linear(embed_dim, embed_dim)\n",
    "        self.proj = nn.Linear(embed_dim, embed_dim)\n",
    "        self.attn_dropout = nn.Dropout(attn_dropout)\n",
    "        self.proj_dropout = nn.Dropout(ff_dropout)\n",
    "    \n",
    "    def forward(self, x, mask=None):\n",
    "        batch_size, seq_len, _ = x.size()\n",
    "        # Apply linear transformations to the input tensor\n",
    "        # then split the tensor into num_heads and head_dim\n",
    "        \n",
    "        # Shape: (batch_size, seq_len, embed_dim) -> (batch_size, seq_len, num_heads, head_dim) ->\n",
    "        # (batch_size, seq_len, num_heads, head_dim) -> (batch_size, num_heads, seq_len, head_dim)\n",
    "        q = self.query(x).view(batch_size, seq_len, self.num_heads, -1).transpose(1, 2)\n",
    "        k = self.key(x).view(batch_size, seq_len, self.num_heads, -1).transpose(1, 2)\n",
    "        v = self.value(x).view(batch_size, seq_len, self.num_heads, -1).transpose(1, 2)\n",
    "\n",
    "        # Compute attention scores using Einsum\n",
    "        # b: batch size, h: num_heads, i: seq_len, j: seq_len, d: head_dim\n",
    "        # Implement QK-module, scale and the softmax\n",
    "        \n",
    "        # Shape: (batch_size, num_heads, seq_len, head_dim) * (batch_size, num_heads, seq_len, head_dim)\n",
    "        # -> (batch_size, num_heads, seq_len, seq_len)\n",
    "        attention = torch.einsum('bhid,bhjd->bhij', q, k) / math.sqrt(q.size(-1))\n",
    "        \n",
    "        # Apply mask if provided\n",
    "        if mask is not None:\n",
    "            attention = attention.masked_fill(mask == 0, float(\"-inf\"))\n",
    "        \n",
    "        # Apply softmax and dropout\n",
    "        # Shape: (batch_size, num_heads, seq_len, seq_len) -> (batch_size, num_heads, seq_len, head_dim)\n",
    "        attention = self.attn_dropout(F.softmax(attention, dim=-1))\n",
    "        \n",
    "        # Compute the weighted sum of values using attention scores\n",
    "        # Equivalent to: torch.matmul(attention, v)\n",
    "        # Shape: (batch_size, num_heads, seq_len, seq_len) * (batch_size, num_heads, seq_len, head_dim)\n",
    "        # -> (batch_size, num_heads, seq_len, head_dim)\n",
    "        y = torch.einsum('bhij,bhjd->bhid', attention, v)\n",
    "\n",
    "        # Merge the num_heads and head_dim back to the embed_dim\n",
    "        # Shape: (batch_size, num_heads, seq_len, head_dim) -> (batch_size, seq_len, num_heads, head_dim)\n",
    "        # -> (batch_size, seq_len, num_heads * head_dim)\n",
    "        # -> (batch_size, seq_len, embed_dim)\n",
    "        y = y.transpose(1, 2).contiguous().view(batch_size, seq_len, -1)\n",
    "\n",
    "        # Apply linear transformation and dropout\n",
    "        # Shape: (batch_size, seq_len, embed_dim) -> (batch_size, seq_len, embed_dim)\n",
    "        return self.proj_dropout(self.proj(y))"
   ]
  },
  {
   "cell_type": "markdown",
   "id": "39baad10",
   "metadata": {},
   "source": [
    "### Create a Residual Connection"
   ]
  },
  {
   "cell_type": "code",
   "execution_count": null,
   "id": "85aa5c0d",
   "metadata": {},
   "outputs": [],
   "source": [
    "class ResidualConnection(nn.Module):\n",
    "    def __init__(self, embed_dim, dropout: float = 0.1):\n",
    "        \n",
    "        \"\"\"Initialize the ResidualConnection module.\"\"\"\n",
    "        \n",
    "        super().__init__()\n",
    "        self.layer_norm = LayerNormalization(embed_dim=embed_dim)\n",
    "        self.dropout = nn.Dropout(dropout)\n",
    "\n",
    "    def forward(self, x, sublayer):\n",
    "        \n",
    "        \"\"\"Perform the forward pass of the ResidualConnection module.\"\"\"\n",
    "        \n",
    "        # Apply sublayer (e.g., feedforward block)\n",
    "        # (batch_size, seq_len, embed_dim) -> (batch_size, seq_len, embed_dim)\n",
    "        sublayer_output = sublayer(x)\n",
    "        \n",
    "        # Apply layer normalization\n",
    "        # (batch_size, seq_len, embed_dim) -> (batch_size, seq_len, embed_dim)\n",
    "        normalized_x = self.layer_norm(x)\n",
    "        \n",
    "        # Add residual connection\n",
    "        # (batch_size, seq_len, embed_dim) + (batch_size, seq_len, embed_dim) -> (batch_size, seq_len, embed_dim)\n",
    "        residual_output = normalized_x + sublayer_output\n",
    "        \n",
    "        # Apply dropout to the sum\n",
    "        return self.dropout(residual_output)"
   ]
  },
  {
   "cell_type": "markdown",
   "id": "0bcd625d",
   "metadata": {},
   "source": [
    "### Projection Head"
   ]
  },
  {
   "cell_type": "code",
   "execution_count": null,
   "id": "b58d2e87",
   "metadata": {},
   "outputs": [],
   "source": [
    "class ProjectionHead(nn.Module):\n",
    "    def __init__(self, embed_dim: int, vocab_size: int):\n",
    "        \n",
    "        \"\"\"Initialize the ProjectionHead module.\"\"\"\n",
    "        \n",
    "        super().__init__()\n",
    "        self.fc = nn.Linear(embed_dim, vocab_size)\n",
    "        \n",
    "        \n",
    "    \n",
    "    def forward(self, x):\n",
    "        \n",
    "        \"\"\"Perform the forward pass of the ProjectionHead module using linear transformation.\"\"\"\n",
    "    \n",
    "        # (batch_size, seq_len, embed_dim) -> (batch_size, seq_len, vocab_size)\n",
    "        return self.fc(x)"
   ]
  },
  {
   "cell_type": "markdown",
   "id": "d26a6a40",
   "metadata": {},
   "source": [
    "### Transformer Block"
   ]
  },
  {
   "cell_type": "code",
   "execution_count": null,
   "id": "91efeb12",
   "metadata": {},
   "outputs": [],
   "source": [
    "class DecoderBlock(nn.Module):\n",
    "    def __init__(\n",
    "        self, \n",
    "        embed_dim: int = 512, \n",
    "        num_heads: int = 8, \n",
    "        ff_dim: int = 2048, \n",
    "        attn_dropout: float = 0.1, \n",
    "        ff_dropout: float = 0.1, \n",
    "        dropout: float = 0.1,\n",
    "        max_len: int = 512,\n",
    "    ):\n",
    "        super().__init__()\n",
    "        \n",
    "        # Initialize multi-head self-attention mechanism\n",
    "        self.MultiHeadAttention = MultiHeadAttention(\n",
    "            embed_dim=embed_dim, \n",
    "            num_heads=num_heads, \n",
    "            attn_dropout=attn_dropout, \n",
    "            ff_dropout=ff_dropout,\n",
    "            max_len=max_len,\n",
    "            )\n",
    "        # Initialize feed-forward block\n",
    "        self.feed_forward = FeedForwardBlock(\n",
    "            embed_dim=embed_dim, \n",
    "            intermediate_size=ff_dim, \n",
    "            dropout=ff_dropout,\n",
    "            )\n",
    "        # Initialize residual connections\n",
    "        self.residual_connection1 = ResidualConnection(embed_dim=embed_dim, dropout=dropout)\n",
    "        self.residual_connection2 = ResidualConnection(embed_dim=embed_dim, dropout=dropout)\n",
    "        \n",
    "        \n",
    "\n",
    "    def forward(self, x, attention_mask=None):\n",
    "        # Apply self-attention mechanism with residual connection\n",
    "        x_with_attention = self.residual_connection1(x, lambda x: self.MultiHeadAttention(x, mask=attention_mask))\n",
    "        # Apply feed-forward block with residual connection\n",
    "        x_with_ff = self.residual_connection2(x_with_attention, self.feed_forward)\n",
    "        return x_with_ff"
   ]
  },
  {
   "cell_type": "markdown",
   "id": "4b3b57e0",
   "metadata": {},
   "source": [
    "### Building the Transformer"
   ]
  },
  {
   "cell_type": "code",
   "execution_count": null,
   "id": "17b0f310",
   "metadata": {},
   "outputs": [],
   "source": [
    "class GPT(nn.Module):\n",
    "    def __init__(\n",
    "        self,\n",
    "        vocab_size: int,\n",
    "        embed_dim: int = 256,\n",
    "        max_len: int = 256,\n",
    "        embed_dropout: float = 0.1,\n",
    "        num_blocks: int = 6,\n",
    "        num_heads: int = 8,\n",
    "        ff_dim: int = 2048,\n",
    "        attn_dropout: float = 0.1,\n",
    "        ff_dropout: float = 0.1\n",
    "    ):\n",
    "        super().__init__()\n",
    "        self.max_len = max_len\n",
    "        self.token_embedding = InputEmbedding(\n",
    "            embed_dim=embed_dim,\n",
    "            vocab_size=vocab_size,\n",
    "            )\n",
    "        self.positional_embedding = PositionalEncoding(\n",
    "            embed_dim=embed_dim,\n",
    "            max_seq_len=max_len,\n",
    "            dropout=embed_dropout,\n",
    "            )\n",
    "        self.blocks = nn.ModuleList([DecoderBlock(\n",
    "            embed_dim=embed_dim,\n",
    "            num_heads=num_heads,\n",
    "            ff_dim=ff_dim, \n",
    "            attn_dropout=attn_dropout,\n",
    "            ff_dropout=ff_dropout,\n",
    "            max_len=max_len,\n",
    "            ) for _ in range(num_blocks)])\n",
    "        \n",
    "        self.projection_head = ProjectionHead(embed_dim=embed_dim, vocab_size=vocab_size)\n",
    "\n",
    "    def forward(self, input_ids: torch.Tensor, attention_mask: torch.Tensor = None):\n",
    "        # Shape: (batch_size, seq_len) -> (seq_len)\n",
    "        seq_len = input_ids.size(1)\n",
    "        assert seq_len <= self.max_len, \"Sequence longer than model capacity\"\n",
    "        \n",
    "        # Token embedding\n",
    "        # Shape: (batch_size, seq_len) -> (batch_size, seq_len, embed_dim)\n",
    "        x = self.token_embedding(input_ids)  # (batch_size, seq_len, embed_dim)\n",
    "        \n",
    "        # Add positional embedding\n",
    "        # Shape: (batch_size, seq_len, embed_dim) -> (batch_size, seq_len, embed_dim)\n",
    "        x = self.positional_embedding(x)\n",
    "\n",
    "        # Forward through decoder blocks\n",
    "        # output of each block is the hidden state of the transformer\n",
    "        # Shape: (batch_size, seq_len, embed_dim) -> (batch_size, seq_len, embed_dim)\n",
    "        for block in self.blocks:\n",
    "            x = block(x, attention_mask=attention_mask)\n",
    "        \n",
    "        # Linear layer for output logits\n",
    "        # Shape: (batch_size, seq_len, embed_dim) -> (batch_size, seq_len, vocab_size)\n",
    "        x = self.projection_head(x)  # (batch_size, seq_len, vocab_size)\n",
    "\n",
    "        return x"
   ]
  },
  {
   "cell_type": "markdown",
   "id": "35ba1a60",
   "metadata": {},
   "source": [
    "### Initialize model parameters followed by the GPT-model"
   ]
  },
  {
   "cell_type": "code",
   "execution_count": null,
   "id": "535e6c31",
   "metadata": {},
   "outputs": [],
   "source": [
    "# Define model parameters\n",
    "vocab_size = 50257  # Example vocab size; specific to GPT2 tokenizer\n",
    "embed_dim = 768 \n",
    "max_len = 1024  \n",
    "embed_dropout = 0.1\n",
    "num_blocks = 6 \n",
    "num_heads = 8 \n",
    "ff_dim = 2048 \n",
    "attn_dropout = 0.1\n",
    "ff_dropout = 0.1\n",
    "\n",
    "# Initialize GPT model\n",
    "model = GPT(\n",
    "    vocab_size=vocab_size,\n",
    "    embed_dim=embed_dim,\n",
    "    max_len=max_len,\n",
    "    embed_dropout=embed_dropout,\n",
    "    num_blocks=num_blocks,\n",
    "    num_heads=num_heads,\n",
    "    ff_dim=ff_dim,\n",
    "    attn_dropout=attn_dropout,\n",
    "    ff_dropout=ff_dropout\n",
    ")"
   ]
  },
  {
   "cell_type": "markdown",
   "id": "86fda2a4",
   "metadata": {},
   "source": [
    "## Training"
   ]
  },
  {
   "cell_type": "markdown",
   "id": "c3f3c0a9",
   "metadata": {},
   "source": [
    "### Data Pre-processing"
   ]
  },
  {
   "cell_type": "code",
   "execution_count": null,
   "id": "96a7c2b9",
   "metadata": {},
   "outputs": [],
   "source": [
    "sample_data = [\n",
    "    \"Jack and Jill went up the hill\",\n",
    "    \"To fetch a pail of water\",\n",
    "    \"Jack fell down and broke his crown\",\n",
    "    \"And Jill came tumbling after\",\n",
    "]"
   ]
  },
  {
   "cell_type": "code",
   "execution_count": null,
   "id": "48081351",
   "metadata": {},
   "outputs": [],
   "source": [
    "class GPTDataset(Dataset):\n",
    "    def __init__(self, data:list, tokenizer, max_length:int):\n",
    "        self.data = data\n",
    "        self.tokenizer = tokenizer\n",
    "        self.max_length = max_length\n",
    "        self.end_token = tokenizer.eos_token_id\n",
    "\n",
    "    def __len__(self):\n",
    "        return len(self.data)\n",
    "\n",
    "    def __getitem__(self, idx):\n",
    "        text = self.data[idx]\n",
    "        input_txt = self.tokenizer(text, truncation=True, return_tensors=\"pt\")[\"input_ids\"].squeeze(0)\n",
    "        text_len = input_txt.size(0)\n",
    "        if text_len < self.max_length:\n",
    "            padding_len = self.max_length - text_len\n",
    "            padding = torch.tensor([self.end_token] * padding_len)\n",
    "            input_ids = torch.cat((input_txt, padding), dim=0)\n",
    "            label = torch.cat((input_txt[1:], torch.tensor([self.end_token]), padding), dim=0)\n",
    "        else:\n",
    "            input_ids = input_txt[:self.max_length]\n",
    "            label = torch.cat((input_txt[1:self.max_length], torch.tensor([self.end_token])), dim=0)\n",
    "        return input_ids, label"
   ]
  },
  {
   "cell_type": "code",
   "execution_count": null,
   "id": "13569986",
   "metadata": {},
   "outputs": [],
   "source": [
    "tokenizer = AutoTokenizer.from_pretrained(\"gpt2\")\n",
    "\n",
    "train_dataset = GPTDataset(\n",
    "    data = sample_data,\n",
    "    tokenizer = tokenizer,\n",
    "    max_length = 200,\n",
    "    )"
   ]
  },
  {
   "cell_type": "code",
   "execution_count": null,
   "id": "2ac941b2",
   "metadata": {},
   "outputs": [],
   "source": [
    "input_ids, label = train_dataset[2]\n",
    "input_ids = input_ids.unsqueeze(0)\n",
    "label = label.unsqueeze(0)\n",
    "\n",
    "print(\"Label:\", label)\n",
    "print(\"Input IDs:\", input_ids)\n",
    "\n",
    "print(\"Label Shape:\", label.shape)\n",
    "print(\"Input IDs Shape:\", input_ids.shape)"
   ]
  },
  {
   "cell_type": "markdown",
   "id": "e30cf09d",
   "metadata": {},
   "source": [
    "### Train the model"
   ]
  },
  {
   "cell_type": "code",
   "execution_count": null,
   "id": "470aa146",
   "metadata": {},
   "outputs": [],
   "source": [
    "device = torch.device(\"cuda\" if torch.cuda.is_available() else \"cpu\")\n",
    "lr = 5e-4\n",
    "batch_size = 2\n",
    "num_epochs = 5"
   ]
  },
  {
   "cell_type": "code",
   "execution_count": null,
   "id": "c4e6f1e0",
   "metadata": {},
   "outputs": [],
   "source": [
    "model.to(device)\n",
    "optimizer = optim.Adam(model.parameters(), lr=lr)\n",
    "criterion = nn.CrossEntropyLoss()\n",
    "train_loader = DataLoader(train_dataset, batch_size=batch_size, shuffle=True,)\n",
    "\n",
    "for epoch in range(num_epochs):\n",
    "    model.train()\n",
    "    total_loss = 0.0\n",
    "\n",
    "    for batch in train_loader:\n",
    "        optimizer.zero_grad()\n",
    "        # Unpack input and label from the batch and send them to the device\n",
    "        input_ids, labels = batch\n",
    "        input_ids, labels = input_ids.to(device), labels.to(device)\n",
    "\n",
    "        # Generate the causal mask\n",
    "        # Shape: (batch_size, seq_len, seq_len) \n",
    "        mask = generate_square_subsequent_mask(input_ids.size(1), device=device)\n",
    "\n",
    "        # Forward pass\n",
    "        logits = model(input_ids=input_ids, attention_mask=mask)\n",
    "        \n",
    "        # Flatten the logits and labels for computing the loss\n",
    "        logits_flat = logits.view(-1, logits.size(-1))\n",
    "        labels_flat = labels.view(-1)\n",
    "\n",
    "        # Compute the loss\n",
    "        loss = criterion(logits_flat, labels_flat)\n",
    "\n",
    "        # Backward pass and optimization step\n",
    "        loss.backward()\n",
    "        optimizer.step()\n",
    "\n",
    "        total_loss += loss.item()\n",
    "\n",
    "    print(f'Epoch {epoch+1}/{num_epochs}, Loss: {total_loss/len(train_loader)}')\n"
   ]
  },
  {
   "cell_type": "markdown",
   "id": "360c8106",
   "metadata": {},
   "source": [
    "### Inference"
   ]
  },
  {
   "cell_type": "code",
   "execution_count": null,
   "id": "21ddaa32",
   "metadata": {},
   "outputs": [],
   "source": [
    "vocab_size = 50257\n",
    "embed_dim = 768\n",
    "max_len = 1024\n",
    "embed_dropout = 0.1\n",
    "num_blocks = 12  \n",
    "num_heads = 12   \n",
    "ff_dim = 3072\n",
    "attn_dropout = 0.1\n",
    "ff_dropout = 0.1\n",
    "\n",
    "# Initialize GPT model\n",
    "model = GPT(\n",
    "    vocab_size=vocab_size,\n",
    "    embed_dim=embed_dim,\n",
    "    max_len=max_len,\n",
    "    embed_dropout=embed_dropout,\n",
    "    num_blocks=num_blocks,\n",
    "    num_heads=num_heads,\n",
    "    ff_dim=ff_dim,\n",
    "    attn_dropout=attn_dropout,\n",
    "    ff_dropout=ff_dropout\n",
    ")"
   ]
  },
  {
   "cell_type": "code",
   "execution_count": null,
   "id": "a1a9ebb4",
   "metadata": {},
   "outputs": [],
   "source": [
    "model_name = \"gpt2\"\n",
    "device = torch.device(\"cuda\" if torch.cuda.is_available() else \"cpu\")\n",
    "tokenizer = AutoTokenizer.from_pretrained(model_name)"
   ]
  },
  {
   "cell_type": "code",
   "execution_count": null,
   "id": "a0444c86",
   "metadata": {},
   "outputs": [],
   "source": [
    "input_txt = \"Attention is All You Need\"\n",
    "\n",
    "input_ids = tokenizer(input_txt, return_tensors=\"pt\")[\"input_ids\"].to(device)\n",
    "print(input_ids)\n",
    "print(input_ids.shape)"
   ]
  },
  {
   "cell_type": "code",
   "execution_count": null,
   "id": "2b46ee63",
   "metadata": {},
   "outputs": [],
   "source": [
    "model = model.to(device)\n",
    "iterations = []\n",
    "n_steps = 10\n",
    "choices_per_step = 5\n",
    "\n",
    "with torch.no_grad():\n",
    "    for _ in range(n_steps):\n",
    "        iteration = dict()\n",
    "        iteration[\"Input\"] = tokenizer.decode(input_ids[0])\n",
    "        output = model(input_ids=input_ids)\n",
    "        \n",
    "        # Select logits of the first batch and the last token and apply softmax to get the probability\n",
    "        next_token_logits = output[0, -1, :]\n",
    "        next_token_probs = torch.softmax(next_token_logits, dim=-1)\n",
    "        sorted_ids = torch.argsort(next_token_probs, dim=-1, descending=True)\n",
    "        \n",
    "        # Store tokens with highest probabilities in our little table\n",
    "        for choice_idx in range(choices_per_step):\n",
    "            token_id = sorted_ids[choice_idx]\n",
    "            token_prob = next_token_probs[token_id].cpu().numpy()\n",
    "            token_choice = (\n",
    "                f\"{tokenizer.decode(token_id)} ({100 * token_prob:.2f}%)\"\n",
    "            )\n",
    "            iteration[f\"Choice {choice_idx+1}\"] = token_choice\n",
    "        iterations.append(iteration)\n",
    "\n",
    "            \n",
    "        # Append predicted next token to input\n",
    "        input_ids = torch.cat([input_ids, sorted_ids[None, 0, None]], dim=-1)\n",
    "\n",
    "sample_inference = pd.DataFrame(iterations)\n",
    "sample_infer"
   ]
  },
  {
   "cell_type": "code",
   "execution_count": null,
   "id": "3c8e5adf",
   "metadata": {},
   "outputs": [],
   "source": [
    "def generate_text_until_end(\n",
    "        input_text:str, \n",
    "        model:GPT, \n",
    "        tokenizer:AutoTokenizer,  \n",
    "        max_length:int=100, \n",
    "        device='cpu',\n",
    "        ):\n",
    "    model = model.to(device)\n",
    "    input_ids = tokenizer.encode(input_text, return_tensors='pt').to(device)\n",
    "    end_token_id = tokenizer.eos_token_id\n",
    "    generated_ids = input_ids.flatten().clone()  # Convert to 1-dimensional tensor\n",
    "\n",
    "    with torch.no_grad():\n",
    "        while True:\n",
    "            output = model(input_ids=input_ids)\n",
    "            next_token_logits = output[:, -1, :]\n",
    "            # Apply softmax to get probabilities but probably not necessary\n",
    "            # because the max value will still be the max value after softmax\n",
    "            # next_token_probs = torch.softmax(next_token_logits, dim=-1)\n",
    "            next_token_id = torch.argmax(next_token_logits, dim=-1)\n",
    "            generated_ids = torch.cat([generated_ids, next_token_id], dim=-1)\n",
    "            input_ids = next_token_id.unsqueeze(0)\n",
    "\n",
    "            if next_token_id == end_token_id or len(generated_ids) >= max_length:\n",
    "                break\n",
    "\n",
    "    generated_text = tokenizer.decode(generated_ids, skip_special_tokens=True)\n",
    "    return generated_text"
   ]
  },
  {
   "cell_type": "markdown",
   "id": "b327d056",
   "metadata": {},
   "source": [
    "### Use-case"
   ]
  },
  {
   "cell_type": "code",
   "execution_count": null,
   "id": "4b320221",
   "metadata": {},
   "outputs": [],
   "source": [
    "generated_text = generate_text_until_end(\n",
    "    input_text=\"Everything works out\",\n",
    "    model=model,\n",
    "    tokenizer=tokenizer,\n",
    "    max_length=20,\n",
    "    device=device,\n",
    ")\n",
    "\n",
    "print(generated_text)"
   ]
  }
 ],
 "metadata": {
  "kernelspec": {
   "display_name": "Python 3 (ipykernel)",
   "language": "python",
   "name": "python3"
  },
  "language_info": {
   "codemirror_mode": {
    "name": "ipython",
    "version": 3
   },
   "file_extension": ".py",
   "mimetype": "text/x-python",
   "name": "python",
   "nbconvert_exporter": "python",
   "pygments_lexer": "ipython3",
   "version": "3.9.7"
  }
 },
 "nbformat": 4,
 "nbformat_minor": 5
}
